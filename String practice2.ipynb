{
 "cells": [
  {
   "cell_type": "code",
   "execution_count": 2,
   "id": "fe388a7c",
   "metadata": {},
   "outputs": [
    {
     "name": "stdout",
     "output_type": "stream",
     "text": [
      "What's that?\n",
      "Who are you?\n",
      "What's that?\n",
      "Who are you?\n",
      "What's that?\n",
      "Who are you?\n",
      "\n"
     ]
    }
   ],
   "source": [
    "nag=\"What's that?\\nWho are you?\\n\"\n",
    "print(nag*3)"
   ]
  },
  {
   "cell_type": "code",
   "execution_count": 4,
   "id": "079186cd",
   "metadata": {},
   "outputs": [
    {
     "name": "stdout",
     "output_type": "stream",
     "text": [
      "MEHER\n",
      "meher\n"
     ]
    }
   ],
   "source": [
    "nkm=\"meher\"\n",
    "nkm=nkm.upper()\n",
    "print(nkm)\n",
    "nkm=\"meher\"\n",
    "nkm=nkm.lower()\n",
    "print(nkm)\n"
   ]
  },
  {
   "cell_type": "code",
   "execution_count": 10,
   "id": "3f09759d",
   "metadata": {},
   "outputs": [
    {
     "name": "stdout",
     "output_type": "stream",
     "text": [
      "True\n",
      "False\n",
      "False\n"
     ]
    }
   ],
   "source": [
    "nkm=\"meher\"\n",
    "nkm=nkm.islower()\n",
    "print(nkm)\n",
    "nkm=\"meher\"\n",
    "nkm=nkm.isupper()\n",
    "print(nkm)\n",
    "nkm=\"meher\"\n",
    "nkm=nkm.isdigit()\n",
    "print(nkm)"
   ]
  }
 ],
 "metadata": {
  "kernelspec": {
   "display_name": "Python 3",
   "language": "python",
   "name": "python3"
  },
  "language_info": {
   "codemirror_mode": {
    "name": "ipython",
    "version": 3
   },
   "file_extension": ".py",
   "mimetype": "text/x-python",
   "name": "python",
   "nbconvert_exporter": "python",
   "pygments_lexer": "ipython3",
   "version": "3.8.11"
  }
 },
 "nbformat": 4,
 "nbformat_minor": 5
}
