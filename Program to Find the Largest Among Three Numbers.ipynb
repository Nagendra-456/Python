{
 "cells": [
  {
   "cell_type": "code",
   "execution_count": 1,
   "id": "45371244",
   "metadata": {},
   "outputs": [
    {
     "name": "stdout",
     "output_type": "stream",
     "text": [
      "enter the number:3\n",
      "enter the number:2\n",
      "enter the number:4\n",
      "the largest number is: 4\n"
     ]
    }
   ],
   "source": [
    "#Python Program to Find the Largest Among Three Numbers\n",
    "a = int(input(\"enter the number:\"))\n",
    "b = int(input(\"enter the number:\"))\n",
    "c = int(input(\"enter the number:\"))\n",
    "if a>b&a>c:\n",
    "    print(\"the largest number is:\",a)\n",
    "elif b>a&b>c :\n",
    "    print(\"the largest number is:\",b)\n",
    "else :\n",
    "    print(\"the largest number is:\",c)"
   ]
  }
 ],
 "metadata": {
  "kernelspec": {
   "display_name": "Python 3",
   "language": "python",
   "name": "python3"
  },
  "language_info": {
   "codemirror_mode": {
    "name": "ipython",
    "version": 3
   },
   "file_extension": ".py",
   "mimetype": "text/x-python",
   "name": "python",
   "nbconvert_exporter": "python",
   "pygments_lexer": "ipython3",
   "version": "3.8.11"
  }
 },
 "nbformat": 4,
 "nbformat_minor": 5
}
