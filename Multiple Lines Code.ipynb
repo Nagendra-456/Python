{
 "cells": [
  {
   "cell_type": "code",
   "execution_count": 2,
   "id": "4fafabfe",
   "metadata": {},
   "outputs": [
    {
     "name": "stdout",
     "output_type": "stream",
     "text": [
      "What's that?\n",
      "Who are you?\n",
      "What's that?\n",
      "Who are you?\n",
      "What's that?\n",
      "Who are you?\n",
      "\n"
     ]
    }
   ],
   "source": [
    "nag=\"What's that?\\nWho are you?\\n\"\n",
    "print(nag*3)"
   ]
  },
  {
   "cell_type": "code",
   "execution_count": 1,
   "id": "74874857",
   "metadata": {},
   "outputs": [
    {
     "data": {
      "text/plain": [
       "'Python is easy to learn,\\n            coding can be made much shorter,\\n            easy to understand if you know english.'"
      ]
     },
     "execution_count": 1,
     "metadata": {},
     "output_type": "execute_result"
    }
   ],
   "source": [
    "string = '''Python is easy to learn,\n",
    "            coding can be made much shorter,\n",
    "            easy to understand if you know english.'''\n",
    "string"
   ]
  }
 ],
 "metadata": {
  "kernelspec": {
   "display_name": "Python 3",
   "language": "python",
   "name": "python3"
  },
  "language_info": {
   "codemirror_mode": {
    "name": "ipython",
    "version": 3
   },
   "file_extension": ".py",
   "mimetype": "text/x-python",
   "name": "python",
   "nbconvert_exporter": "python",
   "pygments_lexer": "ipython3",
   "version": "3.8.11"
  }
 },
 "nbformat": 4,
 "nbformat_minor": 5
}
