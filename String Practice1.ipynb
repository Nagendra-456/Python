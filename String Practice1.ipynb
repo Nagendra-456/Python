{
 "cells": [
  {
   "cell_type": "code",
   "execution_count": 7,
   "id": "b5e2d3d0",
   "metadata": {},
   "outputs": [
    {
     "data": {
      "text/plain": [
       "'Anim'"
      ]
     },
     "execution_count": 7,
     "metadata": {},
     "output_type": "execute_result"
    }
   ],
   "source": [
    "name='AnimeOut123456'\n",
    "name[0:4]"
   ]
  },
  {
   "cell_type": "code",
   "execution_count": 8,
   "id": "f5eca4ab",
   "metadata": {},
   "outputs": [
    {
     "data": {
      "text/plain": [
       "14"
      ]
     },
     "execution_count": 8,
     "metadata": {},
     "output_type": "execute_result"
    }
   ],
   "source": [
    "name='AnimeOut123456'\n",
    "len(name)"
   ]
  },
  {
   "cell_type": "code",
   "execution_count": 9,
   "id": "5fb7ca79",
   "metadata": {},
   "outputs": [
    {
     "data": {
      "text/plain": [
       "'AnimeOut12'"
      ]
     },
     "execution_count": 9,
     "metadata": {},
     "output_type": "execute_result"
    }
   ],
   "source": [
    "name='AnimeOut123456'\n",
    "name[:-4]"
   ]
  },
  {
   "cell_type": "code",
   "execution_count": 2,
   "id": "2ad5b309",
   "metadata": {},
   "outputs": [
    {
     "name": "stdout",
     "output_type": "stream",
     "text": [
      "i\n",
      "Aieu1\n"
     ]
    }
   ],
   "source": [
    "name='AnimeOut123456'\n",
    "print(name[2:6:4])\n",
    "print(name[0:10:2])"
   ]
  }
 ],
 "metadata": {
  "kernelspec": {
   "display_name": "Python 3",
   "language": "python",
   "name": "python3"
  },
  "language_info": {
   "codemirror_mode": {
    "name": "ipython",
    "version": 3
   },
   "file_extension": ".py",
   "mimetype": "text/x-python",
   "name": "python",
   "nbconvert_exporter": "python",
   "pygments_lexer": "ipython3",
   "version": "3.8.11"
  }
 },
 "nbformat": 4,
 "nbformat_minor": 5
}
