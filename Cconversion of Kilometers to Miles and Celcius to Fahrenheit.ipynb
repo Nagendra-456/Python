{
 "cells": [
  {
   "cell_type": "code",
   "execution_count": 4,
   "id": "f42cd17d",
   "metadata": {},
   "outputs": [
    {
     "name": "stdout",
     "output_type": "stream",
     "text": [
      "Enter a number:6\n",
      "conversion into miles: 3.7282260000000003\n"
     ]
    }
   ],
   "source": [
    "#Python Program to Convert Kilometers to Miles\n",
    "kilometer = float(input(\"Enter a number:\"))\n",
    "conversion = kilometer*0.621371\n",
    "print(\"conversion into miles:\",conversion)"
   ]
  },
  {
   "cell_type": "code",
   "execution_count": 6,
   "id": "3537dd5d",
   "metadata": {},
   "outputs": [
    {
     "name": "stdout",
     "output_type": "stream",
     "text": [
      "Temperature in celsius:66\n",
      "fahrenheit temperature: 150.8\n"
     ]
    }
   ],
   "source": [
    "#Python Program to Convert Celsius To Fahrenheit\n",
    "celsius = float(input(\"Temperature in celsius:\"))\n",
    "fahrenheit = (celsius*(9/5))+32\n",
    "print(\"fahrenheit temperature:\",fahrenheit)"
   ]
  }
 ],
 "metadata": {
  "kernelspec": {
   "display_name": "Python 3",
   "language": "python",
   "name": "python3"
  },
  "language_info": {
   "codemirror_mode": {
    "name": "ipython",
    "version": 3
   },
   "file_extension": ".py",
   "mimetype": "text/x-python",
   "name": "python",
   "nbconvert_exporter": "python",
   "pygments_lexer": "ipython3",
   "version": "3.8.11"
  }
 },
 "nbformat": 4,
 "nbformat_minor": 5
}
