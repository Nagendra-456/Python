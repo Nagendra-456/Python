{
 "cells": [
  {
   "cell_type": "code",
   "execution_count": 2,
   "id": "9e1acbf0",
   "metadata": {},
   "outputs": [
    {
     "name": "stdout",
     "output_type": "stream",
     "text": [
      "My name is Nagendra\n",
      "My name is Nagendra\n",
      "My name is Nagendra\n",
      "My name is Nagendra\n",
      "My name is Nagendra\n",
      "My name is Nagendra\n",
      "\n"
     ]
    }
   ],
   "source": [
    "print(\"My name is Nagendra\\n\"*6)"
   ]
  },
  {
   "cell_type": "code",
   "execution_count": 1,
   "id": "fe790bed",
   "metadata": {},
   "outputs": [
    {
     "name": "stdout",
     "output_type": "stream",
     "text": [
      "enter no1:1\n",
      "enter no2:2\n",
      "c: 3\n"
     ]
    }
   ],
   "source": [
    "a=int(input(\"enter no1:\"))\n",
    "b=int(input(\"enter no2:\"))\n",
    "c= a + b\n",
    "print(\"c:\", c)"
   ]
  }
 ],
 "metadata": {
  "kernelspec": {
   "display_name": "Python 3",
   "language": "python",
   "name": "python3"
  },
  "language_info": {
   "codemirror_mode": {
    "name": "ipython",
    "version": 3
   },
   "file_extension": ".py",
   "mimetype": "text/x-python",
   "name": "python",
   "nbconvert_exporter": "python",
   "pygments_lexer": "ipython3",
   "version": "3.8.11"
  }
 },
 "nbformat": 4,
 "nbformat_minor": 5
}
