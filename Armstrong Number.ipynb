{
 "cells": [
  {
   "cell_type": "code",
   "execution_count": 3,
   "id": "4ccee9eb",
   "metadata": {},
   "outputs": [
    {
     "name": "stdout",
     "output_type": "stream",
     "text": [
      "enter a number:153\n",
      "153 is an armstong number\n"
     ]
    }
   ],
   "source": [
    "#Python Program to Check Armstrong Number (for 3 digits)\n",
    "number = int(input(\"enter a number:\"))\n",
    "sum = 0\n",
    "temp = number\n",
    "while temp>0:\n",
    "    no = temp%10\n",
    "    sum += no**3\n",
    "    temp //= 10\n",
    "    \n",
    "if number==sum:\n",
    "    print(number,\"is an armstong number\")\n",
    "else :\n",
    "    print(number,\"is not an armstong number\")\n"
   ]
  }
 ],
 "metadata": {
  "kernelspec": {
   "display_name": "Python 3",
   "language": "python",
   "name": "python3"
  },
  "language_info": {
   "codemirror_mode": {
    "name": "ipython",
    "version": 3
   },
   "file_extension": ".py",
   "mimetype": "text/x-python",
   "name": "python",
   "nbconvert_exporter": "python",
   "pygments_lexer": "ipython3",
   "version": "3.8.11"
  }
 },
 "nbformat": 4,
 "nbformat_minor": 5
}
