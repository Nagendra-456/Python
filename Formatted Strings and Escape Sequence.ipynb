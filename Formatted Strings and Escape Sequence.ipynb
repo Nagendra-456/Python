{
 "cells": [
  {
   "cell_type": "code",
   "execution_count": null,
   "id": "3131c52c",
   "metadata": {},
   "outputs": [],
   "source": [
    "#Formatted Strings"
   ]
  },
  {
   "cell_type": "code",
   "execution_count": 2,
   "id": "5a473b6f",
   "metadata": {},
   "outputs": [
    {
     "name": "stdout",
     "output_type": "stream",
     "text": [
      "Nagendra Meher\n"
     ]
    }
   ],
   "source": [
    "firstname = \"Nagendra\"\n",
    "secondname = \"Meher\"\n",
    "name = firstname+\" \"+secondname\n",
    "print(name)"
   ]
  },
  {
   "cell_type": "code",
   "execution_count": 6,
   "id": "7bd02d49",
   "metadata": {},
   "outputs": [
    {
     "name": "stdout",
     "output_type": "stream",
     "text": [
      "Nagendra Meher\n"
     ]
    }
   ],
   "source": [
    "firstname = \"Nagendra\"\n",
    "secondname = \"Meher\"\n",
    "name = f\"{firstname} {secondname}\"\n",
    "print(name)"
   ]
  },
  {
   "cell_type": "code",
   "execution_count": 7,
   "id": "ec9fe891",
   "metadata": {},
   "outputs": [
    {
     "name": "stdout",
     "output_type": "stream",
     "text": [
      "8 5\n"
     ]
    }
   ],
   "source": [
    "firstname = \"Nagendra\"\n",
    "secondname = \"Meher\"\n",
    "name = f\"{len(firstname)} {len(secondname)}\"\n",
    "print(name)"
   ]
  },
  {
   "cell_type": "code",
   "execution_count": 9,
   "id": "8fc20dcd",
   "metadata": {},
   "outputs": [
    {
     "name": "stdout",
     "output_type": "stream",
     "text": [
      "I love \"india\n"
     ]
    }
   ],
   "source": [
    "#Escape Sequence\n",
    "new = \"I love \\\"india\"\n",
    "print(new)"
   ]
  },
  {
   "cell_type": "code",
   "execution_count": 10,
   "id": "30d2860b",
   "metadata": {},
   "outputs": [
    {
     "name": "stdout",
     "output_type": "stream",
     "text": [
      "I love 'india\n"
     ]
    }
   ],
   "source": [
    "#Escape Sequence\n",
    "new = 'I love \\'india'\n",
    "print(new)"
   ]
  },
  {
   "cell_type": "code",
   "execution_count": 11,
   "id": "789d0e24",
   "metadata": {},
   "outputs": [
    {
     "name": "stdout",
     "output_type": "stream",
     "text": [
      "I love \\india\n"
     ]
    }
   ],
   "source": [
    "new = 'I love \\\\india'\n",
    "print(new)"
   ]
  },
  {
   "cell_type": "code",
   "execution_count": 12,
   "id": "edf7ac63",
   "metadata": {},
   "outputs": [
    {
     "name": "stdout",
     "output_type": "stream",
     "text": [
      "I love \n",
      "india\n"
     ]
    }
   ],
   "source": [
    "new = 'I love \\nindia'\n",
    "print(new)"
   ]
  }
 ],
 "metadata": {
  "kernelspec": {
   "display_name": "Python 3",
   "language": "python",
   "name": "python3"
  },
  "language_info": {
   "codemirror_mode": {
    "name": "ipython",
    "version": 3
   },
   "file_extension": ".py",
   "mimetype": "text/x-python",
   "name": "python",
   "nbconvert_exporter": "python",
   "pygments_lexer": "ipython3",
   "version": "3.8.11"
  }
 },
 "nbformat": 4,
 "nbformat_minor": 5
}
